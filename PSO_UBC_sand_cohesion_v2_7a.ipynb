{
  "nbformat": 4,
  "nbformat_minor": 0,
  "metadata": {
    "colab": {
      "provenance": [],
      "mount_file_id": "1RBnboojeIGKAoytbdCFOkQULr1Y1CFJV",
      "authorship_tag": "ABX9TyMCQvOxR79Pv7ROAt9iqSW0",
      "include_colab_link": true
    },
    "kernelspec": {
      "display_name": "Python 3",
      "name": "python3"
    },
    "language_info": {
      "name": "python"
    }
  },
  "cells": [
    {
      "cell_type": "markdown",
      "metadata": {
        "id": "view-in-github",
        "colab_type": "text"
      },
      "source": [
        "<a href=\"https://colab.research.google.com/github/Sompote/PSO_constitutive/blob/main/PSO_UBC_sand_cohesion_v2_7a.ipynb\" target=\"_parent\"><img src=\"https://colab.research.google.com/assets/colab-badge.svg\" alt=\"Open In Colab\"/></a>"
      ]
    },
    {
      "cell_type": "code",
      "metadata": {
        "id": "A-_GTx-ulFV9"
      },
      "source": [
        "#PSO\n",
        "\n",
        "import pandas as pd\n",
        "import numpy as np\n",
        "import matplotlib.pyplot as plt\n",
        "import seaborn as sns\n",
        "from sklearn.model_selection import train_test_split,KFold,cross_val_score\n",
        "from keras.layers import Activation, Dense,Flatten,LSTM,Dropout, GRU\n",
        "import warnings\n",
        "from keras import optimizers\n",
        "from keras.models import Sequential, Model\n",
        "from keras.layers.convolutional import Conv1D, MaxPooling1D\n",
        "from keras.layers import Dense, LSTM, RepeatVector, TimeDistributed, Flatten\n",
        "from sklearn.preprocessing import MinMaxScaler, StandardScaler\n",
        "\n",
        "plt.style.use(\"fivethirtyeight\")\n",
        "\n",
        "df=pd.read_excel('/content/drive/MyDrive/Colab Notebooks/Data/constitutive/triaxail_compresion.xlsx')\n",
        "\n",
        "#ks = pd.concat([df, df2,df3]).reset_index(drop=True)\n",
        "\n",
        "ks=pd.DataFrame()"
      ],
      "execution_count": null,
      "outputs": []
    },
    {
      "cell_type": "code",
      "metadata": {
        "colab": {
          "base_uri": "https://localhost:8080/",
          "height": 419
        },
        "id": "wDKn3423p1iR",
        "outputId": "e3ac7f70-dbdf-4c20-9cea-d44b4d961fcd"
      },
      "source": [
        "df"
      ],
      "execution_count": null,
      "outputs": [
        {
          "output_type": "execute_result",
          "data": {
            "text/html": [
              "<div>\n",
              "<style scoped>\n",
              "    .dataframe tbody tr th:only-of-type {\n",
              "        vertical-align: middle;\n",
              "    }\n",
              "\n",
              "    .dataframe tbody tr th {\n",
              "        vertical-align: top;\n",
              "    }\n",
              "\n",
              "    .dataframe thead th {\n",
              "        text-align: right;\n",
              "    }\n",
              "</style>\n",
              "<table border=\"1\" class=\"dataframe\">\n",
              "  <thead>\n",
              "    <tr style=\"text-align: right;\">\n",
              "      <th></th>\n",
              "      <th>es</th>\n",
              "      <th>po</th>\n",
              "      <th>q</th>\n",
              "      <th>p</th>\n",
              "    </tr>\n",
              "  </thead>\n",
              "  <tbody>\n",
              "    <tr>\n",
              "      <th>0</th>\n",
              "      <td>0.00000</td>\n",
              "      <td>50</td>\n",
              "      <td>-0.11263</td>\n",
              "      <td>50.24785</td>\n",
              "    </tr>\n",
              "    <tr>\n",
              "      <th>1</th>\n",
              "      <td>0.01001</td>\n",
              "      <td>50</td>\n",
              "      <td>14.32771</td>\n",
              "      <td>50.82576</td>\n",
              "    </tr>\n",
              "    <tr>\n",
              "      <th>2</th>\n",
              "      <td>0.02003</td>\n",
              "      <td>50</td>\n",
              "      <td>22.05459</td>\n",
              "      <td>50.98853</td>\n",
              "    </tr>\n",
              "    <tr>\n",
              "      <th>3</th>\n",
              "      <td>0.03003</td>\n",
              "      <td>50</td>\n",
              "      <td>31.09291</td>\n",
              "      <td>51.05771</td>\n",
              "    </tr>\n",
              "    <tr>\n",
              "      <th>4</th>\n",
              "      <td>0.04000</td>\n",
              "      <td>50</td>\n",
              "      <td>45.59405</td>\n",
              "      <td>51.09657</td>\n",
              "    </tr>\n",
              "    <tr>\n",
              "      <th>...</th>\n",
              "      <td>...</td>\n",
              "      <td>...</td>\n",
              "      <td>...</td>\n",
              "      <td>...</td>\n",
              "    </tr>\n",
              "    <tr>\n",
              "      <th>56</th>\n",
              "      <td>0.91022</td>\n",
              "      <td>200</td>\n",
              "      <td>524.25170</td>\n",
              "      <td>186.07415</td>\n",
              "    </tr>\n",
              "    <tr>\n",
              "      <th>57</th>\n",
              "      <td>0.92050</td>\n",
              "      <td>200</td>\n",
              "      <td>524.69661</td>\n",
              "      <td>186.17654</td>\n",
              "    </tr>\n",
              "    <tr>\n",
              "      <th>58</th>\n",
              "      <td>0.93047</td>\n",
              "      <td>200</td>\n",
              "      <td>525.11251</td>\n",
              "      <td>186.27271</td>\n",
              "    </tr>\n",
              "    <tr>\n",
              "      <th>59</th>\n",
              "      <td>0.93827</td>\n",
              "      <td>200</td>\n",
              "      <td>525.42774</td>\n",
              "      <td>186.34589</td>\n",
              "    </tr>\n",
              "    <tr>\n",
              "      <th>60</th>\n",
              "      <td>1.20000</td>\n",
              "      <td>200</td>\n",
              "      <td>540.00000</td>\n",
              "      <td>187.00000</td>\n",
              "    </tr>\n",
              "  </tbody>\n",
              "</table>\n",
              "<p>61 rows × 4 columns</p>\n",
              "</div>"
            ],
            "text/plain": [
              "         es   po          q          p\n",
              "0   0.00000   50   -0.11263   50.24785\n",
              "1   0.01001   50   14.32771   50.82576\n",
              "2   0.02003   50   22.05459   50.98853\n",
              "3   0.03003   50   31.09291   51.05771\n",
              "4   0.04000   50   45.59405   51.09657\n",
              "..      ...  ...        ...        ...\n",
              "56  0.91022  200  524.25170  186.07415\n",
              "57  0.92050  200  524.69661  186.17654\n",
              "58  0.93047  200  525.11251  186.27271\n",
              "59  0.93827  200  525.42774  186.34589\n",
              "60  1.20000  200  540.00000  187.00000\n",
              "\n",
              "[61 rows x 4 columns]"
            ]
          },
          "metadata": {},
          "execution_count": 2
        }
      ]
    },
    {
      "cell_type": "code",
      "metadata": {
        "colab": {
          "base_uri": "https://localhost:8080/",
          "height": 287
        },
        "id": "rFn4MFiPlQn6",
        "outputId": "c2feea5b-f6ab-41df-a946-89cdce30b86d"
      },
      "source": [
        "def scaler(xtrain1,y_train1):#scale data\n",
        "  #scaler\n",
        "  scaler_x = MinMaxScaler(feature_range=(-1,1))\n",
        "  scaler_y = MinMaxScaler(feature_range=(-1,1))\n",
        "  train_data_x = scaler_x.fit_transform(xtrain1)\n",
        "  train_data_y=scaler_y.fit_transform(y_train1)\n",
        "  return train_data_x, train_data_y, scaler_x, scaler_y\n",
        "\n",
        "#Build the DL model\n",
        "def model_fit(x_train,y_train):\n",
        "  model_test = Sequential()\n",
        "  model_test.add(Dense(50, activation=\"relu\",input_dim=x_train.shape[1]))\n",
        "  model_test.add(Dense(50))\n",
        "\n",
        "\n",
        "\n",
        "  model_test.add(Dense(y_train.shape[1]))\n",
        "  # Compile the model\n",
        "  model_test.compile(optimizer='Adam', loss='mean_squared_error',metrics=['mape'])\n",
        "  history = model_test.fit(x_train, y_train, batch_size=3, epochs=200, verbose=0)\n",
        "  #scores = model_dll.evaluate(x_test, y_test, verbose=0)\n",
        "  plt.plot(history.history['loss'])\n",
        "  return model_test\n",
        "\n",
        "def predict_value(model,scaler_x,scaler_y,input): #predict_data\n",
        "#prediciton\n",
        "  input=[input]\n",
        "  input=np.reshape(input,(1,2))\n",
        "  input_scale=scaler_x.transform(input)\n",
        "  predict = model.predict([input_scale])\n",
        "  pre_nonscale=scaler_y.inverse_transform(predict)\n",
        "  return pre_nonscale\n",
        "\n",
        "ks=df\n",
        "yi=ks.drop(['es','po'], axis=1).to_numpy()\n",
        "  #yi=ks[['qn']].copy()\n",
        "xi=ks[['es','po']].copy().to_numpy()\n",
        "x_train, y_train, scaler_x, scaler_y =scaler(xi,yi)\n",
        "model_test=model_fit(x_train,y_train)\n",
        "predict_new=predict_value(model_test,scaler_x,scaler_y,[0.2,50])"
      ],
      "execution_count": null,
      "outputs": [
        {
          "output_type": "display_data",
          "data": {
            "image/png": "[encoded data removed]",
            "text/plain": [
              "<Figure size 432x288 with 1 Axes>"
            ]
          },
          "metadata": {}
        }
      ]
    },
    {
      "cell_type": "code",
      "metadata": {
        "colab": {
          "base_uri": "https://localhost:8080/"
        },
        "id": "oc-7yU1OrQde",
        "outputId": "2b6098c1-1cbb-472d-d2b8-2e0f1d9c014d"
      },
      "source": [
        "predict_value(model_test,scaler_x,scaler_y,[1,200])"
      ],
      "execution_count": null,
      "outputs": [
        {
          "output_type": "execute_result",
          "data": {
            "text/plain": [
              "array([[522.50665, 187.23213]], dtype=float32)"
            ]
          },
          "metadata": {},
          "execution_count": 4
        }
      ]
    },
    {
      "cell_type": "code",
      "metadata": {
        "colab": {
          "base_uri": "https://localhost:8080/",
          "height": 299
        },
        "id": "SQXYlXdWlSCn",
        "outputId": "fbec7599-adc9-4c9c-9040-c6f3dc90316f"
      },
      "source": [
        "#chcek model\n",
        "predict_ini=np.array([30000,20000,0.2])\n",
        "predict=model_test(x_train)\n",
        "result=scaler_y.inverse_transform(predict)\n",
        "plt.plot(xi[:,0],result[:,0],linewidth=0.5)\n",
        "#plt.plot(df2['ev'],df2['q'])"
      ],
      "execution_count": null,
      "outputs": [
        {
          "output_type": "execute_result",
          "data": {
            "text/plain": [
              "[<matplotlib.lines.Line2D at 0x7fd6451beb50>]"
            ]
          },
          "metadata": {},
          "execution_count": 13
        },
        {
          "output_type": "display_data",
          "data": {
            "image/png": "[encoded data removed]",
            "text/plain": [
              "<Figure size 432x288 with 1 Axes>"
            ]
          },
          "metadata": {}
        }
      ]
    },
    {
      "cell_type": "code",
      "metadata": {
        "colab": {
          "base_uri": "https://localhost:8080/"
        },
        "id": "y7bci_xCIK2m",
        "outputId": "a9ae48e5-9a1b-4c97-e29e-a51b118c03a9"
      },
      "source": [
        "x_train.shape"
      ],
      "execution_count": null,
      "outputs": [
        {
          "data": {
            "text/plain": [
              "(60, 2)"
            ]
          },
          "execution_count": 75,
          "metadata": {},
          "output_type": "execute_result"
        }
      ]
    },
    {
      "cell_type": "code",
      "metadata": {
        "colab": {
          "base_uri": "https://localhost:8080/",
          "height": 300
        },
        "id": "mQWWC8alD-lB",
        "outputId": "cc60c301-292e-4c5f-ce1b-ce11fb14eeef"
      },
      "source": [
        "#check DNN model\n",
        "es=np.round(np.arange(0,1.5,0.2),1)\n",
        "es=np.reshape(es,(es.shape[0],1))\n",
        "pres= np.empty(es.shape[0])\n",
        "pres.fill(200)\n",
        "pres=np.reshape(pres,(pres.shape[0],1))\n",
        "input=np.hstack((es,pres))\n",
        "input_scale=scaler_x.transform(input)\n",
        "predict = model_test.predict([input_scale])\n",
        "result=scaler_y.inverse_transform(predict)\n",
        "plt.plot(es,result[:,0],linewidth=0.5)\n",
        "\n"
      ],
      "execution_count": null,
      "outputs": [
        {
          "output_type": "execute_result",
          "data": {
            "text/plain": [
              "[<matplotlib.lines.Line2D at 0x7fd64460c610>]"
            ]
          },
          "metadata": {},
          "execution_count": 17
        },
        {
          "output_type": "display_data",
          "data": {
            "image/png": "[encoded data removed]",
            "text/plain": [
              "<Figure size 432x288 with 1 Axes>"
            ]
          },
          "metadata": {}
        }
      ]
    },
    {
      "cell_type": "code",
      "metadata": {
        "colab": {
          "base_uri": "https://localhost:8080/"
        },
        "id": "0q1grnYMEL_3",
        "outputId": "153d2def-886b-4290-8309-c51b3e75be9d"
      },
      "source": [
        "pres.shape"
      ],
      "execution_count": null,
      "outputs": [
        {
          "data": {
            "text/plain": [
              "array([[ 14.833116,  50.13217 ],\n",
              "       [185.11067 ,  71.09344 ],\n",
              "       [325.15958 , 112.34522 ],\n",
              "       [434.54855 , 149.39348 ],\n",
              "       [497.11874 , 170.26991 ],\n",
              "       [519.09753 , 177.32468 ],\n",
              "       [531.1263  , 182.34343 ],\n",
              "       [551.3404  , 188.5289  ],\n",
              "       [574.44336 , 196.42342 ],\n",
              "       [597.32623 , 204.92265 ]], dtype=float32)"
            ]
          },
          "execution_count": 101,
          "metadata": {},
          "output_type": "execute_result"
        }
      ]
    },
    {
      "cell_type": "code",
      "metadata": {
        "id": "5mrZF5kMM_7g"
      },
      "source": [
        "#------------------------------------------------------------------------------+\n",
        "#\n",
        "#\tNathan A. Rooy\n",
        "#\tSimple Particle Swarm Optimization (PSO) with Python\n",
        "#\tLast update: 2018-JAN-26\n",
        "#\tPython 3.6\n",
        "#\n",
        "#------------------------------------------------------------------------------+\n",
        "\n",
        "#--- IMPORT DEPENDENCIES ------------------------------------------------------+\n",
        "\n",
        "from random import random\n",
        "from random import uniform\n",
        "\n",
        "#--- MAIN ---------------------------------------------------------------------+\n",
        "\n",
        "class Particle:\n",
        "    def __init__(self, x0):\n",
        "        self.position_i=[]          # particle position\n",
        "        self.velocity_i=[]          # particle velocity\n",
        "        self.pos_best_i=[]          # best position individual\n",
        "        self.err_best_i=-1          # best error individual\n",
        "        self.err_i=-1               # error individual\n",
        "\n",
        "        for i in range(0,num_dimensions):\n",
        "            self.velocity_i.append(uniform(-1,1))\n",
        "            self.position_i.append(x0[i])\n",
        "\n",
        "    # evaluate current fitness\n",
        "    def evaluate(self,costFunc):\n",
        "        self.err_i=costFunc(self.position_i)\n",
        "\n",
        "        # check to see if the current position is an individual best\n",
        "        if self.err_i<self.err_best_i or self.err_best_i==-1:\n",
        "            self.pos_best_i=self.position_i.copy()\n",
        "            self.err_best_i=self.err_i\n",
        "\n",
        "    # update new particle velocity\n",
        "    def update_velocity(self,pos_best_g):\n",
        "        w=0.5       # constant inertia weight (how much to weigh the previous velocity)\n",
        "        c1=1        # cognative constant\n",
        "        c2=2        # social constant\n",
        "\n",
        "        for i in range(0,num_dimensions):\n",
        "            r1=random()\n",
        "            r2=random()\n",
        "\n",
        "            vel_cognitive=c1*r1*(self.pos_best_i[i]-self.position_i[i])\n",
        "            vel_social=c2*r2*(pos_best_g[i]-self.position_i[i])\n",
        "            self.velocity_i[i]=w*self.velocity_i[i]+vel_cognitive+vel_social\n",
        "\n",
        "    # update the particle position based off new velocity updates\n",
        "    def update_position(self,bounds):\n",
        "        for i in range(0,num_dimensions):\n",
        "            self.position_i[i]=self.position_i[i]+self.velocity_i[i]\n",
        "\n",
        "            # adjust maximum position if necessary\n",
        "            if self.position_i[i]>bounds[i][1]:\n",
        "                self.position_i[i]=bounds[i][1]\n",
        "\n",
        "            # adjust minimum position if neseccary\n",
        "            if self.position_i[i]<bounds[i][0]:\n",
        "                self.position_i[i]=bounds[i][0]\n",
        "\n",
        "\n",
        "def minimize(costFunc, x0, bounds, num_particles, maxiter, verbose=False):\n",
        "    global num_dimensions\n",
        "\n",
        "    num_dimensions=len(x0)\n",
        "    err_best_g=-1                   # best error for group\n",
        "    pos_best_g=[]                   # best position for group\n",
        "\n",
        "    # establish the swarm\n",
        "    swarm=[]\n",
        "    for i in range(0,num_particles):\n",
        "        swarm.append(Particle(x0))\n",
        "\n",
        "    # begin optimization loop\n",
        "    i=0\n",
        "    while i<maxiter:\n",
        "        if verbose: print(f'iter: {i:>4d}, best solution: {err_best_g:10.6f}')\n",
        "\n",
        "        # cycle through particles in swarm and evaluate fitness\n",
        "        for j in range(0,num_particles):\n",
        "            swarm[j].evaluate(costFunc)\n",
        "\n",
        "            # determine if current particle is the best (globally)\n",
        "            if swarm[j].err_i<err_best_g or err_best_g==-1:\n",
        "                pos_best_g=list(swarm[j].position_i)\n",
        "                err_best_g=float(swarm[j].err_i)\n",
        "\n",
        "        # cycle through swarm and update velocities and position\n",
        "        for j in range(0,num_particles):\n",
        "            swarm[j].update_velocity(pos_best_g)\n",
        "            swarm[j].update_position(bounds)\n",
        "        i+=1\n",
        "\n",
        "    # print final results\n",
        "    if verbose:\n",
        "        print('\\nFINAL SOLUTION:')\n",
        "        print(f'   > {pos_best_g}')\n",
        "        print(f'   > {err_best_g}\\n')\n",
        "\n",
        "    return err_best_g, pos_best_g\n",
        "\n"
      ],
      "execution_count": null,
      "outputs": []
    },
    {
      "cell_type": "code",
      "metadata": {
        "id": "vE3HgbbmlZPp"
      },
      "source": [
        "'''\n",
        "Forward integration for UBC sand Model\n",
        "by Dr. Sompote Youwai\n",
        "KMUTT\n",
        "2021\n",
        "q-p is stand for t-s stress space\n",
        "'''\n",
        "from math import *\n",
        "import pandas as pd\n",
        "import numpy as np\n",
        "def cot(rad): return 1/tan(rad)\n",
        "def G_e(kg_e,pa,p,me,poi): #elstic part\n",
        "  Ge=kg_e*pa*(p/pa)**me\n",
        "  Ke=2*Ge*(1+poi)/(3*(1-2*poi))\n",
        "  return Ge, Ke\n",
        "def E_G(E,poi):\n",
        "  Ge=E/(2*(1+poi))\n",
        "  Ke=E/(3*(1-2*poi))\n",
        "  return Ge,Ke\n",
        "\n",
        "def Bfc(n,B_e,B_skem): return n*B_e/(1/B_skem-1)\n",
        "\n",
        "def UBCsand(poi,kg_e,me,B_skem,n,B_e,np,kg,R_f,fee_peak,fee_cv,c,pa,po):\n",
        "  n_cv=sin(radians(fee_cv))\n",
        "  fee_p=radians(fee_peak)\n",
        "  n_p=sin(fee_p) #peak\n",
        "  #forward euler explicit numerical integration\n",
        "  q=0\n",
        "  p=po\n",
        "  es=0\n",
        "  ev=0\n",
        "  eslist=[0.]\n",
        "  evlist=[0.]\n",
        "  qlist =[0.]\n",
        "  plist = [p]\n",
        "  n_mlist=[0]\n",
        "  n_dilist=[0]\n",
        "  ulist=[0]\n",
        "  dp=0\n",
        "  u=0\n",
        "  n_m=q/p\n",
        "  #forward integration\n",
        "  incre=.0001 #strain increment of es\n",
        "  laststrain=0.04 #maximum strain\n",
        "  des=incre\n",
        "  while es < laststrain:\n",
        "    G, K =G_e(kg_e,pa,p,me,poi) #elastic\n",
        "    Bf= Bfc(n,B_e,B_skem)\n",
        "    dev=dp/(Bf)\n",
        "    es+=des\n",
        "\n",
        "    if q-(p*n_m)-c < 0:\n",
        "      dq:float128=3*G*des\n",
        "      dp:float128=K*dev\n",
        "      du=dq-dp\n",
        "      ev+=dev\n",
        "      u+=du\n",
        "      p+=dp\n",
        "      q+=dq\n",
        "       #add data to list\n",
        "      es_f=float(\"{:.4f}\".format(es))*100\n",
        "      es_r=round(es_f,2) #round number to serach for\n",
        "      eslist.append(es_r)\n",
        "      evlist.append(ev)\n",
        "      ulist.append(u)\n",
        "      plist.append(p)\n",
        "      qlist.append(q*2)\n",
        "      n_mlist.append(n_m)\n",
        "      #print('elastic')\n",
        "    else:\n",
        "      n_m=(q-c)/p\n",
        "\n",
        "      while es < laststrain:\n",
        "        es+=des\n",
        "        G, K =G_e(kg_e,pa,p,me,poi)\n",
        "        Bf= Bfc(n,B_e,B_skem)\n",
        "        dev=dp/(Bf)\n",
        "        n_di=n_m-n_cv\n",
        "        #n_di=(n_m*p-(n_cv*p+c))/p\n",
        "        #n_r=(n_m*p)/(n_p*p+c)\n",
        "        n_r=n_m/n_p\n",
        "        #print('plastic',n_r,n_di)\n",
        "\n",
        "        dp:float128=3*G*K*des*n_di/(3*G + K*n_di*n_m + kg*p*abs(p/pa)**(np - 1)*(-R_f*n_r + 1)**2) + dev*(\n",
        "            -K**2*n_di*n_m/(3*G + K*n_di*n_m + kg*p*abs(p/pa)**(np - 1)*(-R_f*n_r + 1)**2) + K)\n",
        "\n",
        "\n",
        "\n",
        "        dq:float128=3*G*K*dev*n_m/(3*G + K*n_di*n_m + kg*p*abs(p/pa)**(np - 1)*(-R_f*n_r + 1)**2) + des*(\n",
        "            -9*G**2/(3*G + K*n_di*n_m + kg*p*abs(p/pa)**(np - 1)*(-R_f*n_r + 1)**2) + 3*G)\n",
        "\n",
        "\n",
        "        du=dq-dp\n",
        "        p+=dp\n",
        "        q+=dq\n",
        "        ev+=dev\n",
        "        u+=du\n",
        "        #es_plastic=incre-dq/(3*G)\n",
        "        #n_m += (kg*(p/pa)**(np - 1)*(-R_f*n_m/n_p + 1)**2)*es_plastic\n",
        "        n_m=(q-c)/p\n",
        "\n",
        "\n",
        "        #add data to list\n",
        "        es_f=float(\"{:.4f}\".format(es))*100\n",
        "        es_r=round(es_f,2) #round number to serach for\n",
        "        eslist.append(es_r)\n",
        "        evlist.append(ev)\n",
        "        plist.append(p)\n",
        "        qlist.append(2*q)\n",
        "        ulist.append(u)\n",
        "        n_mlist.append(n_m)\n",
        "        n_dilist.append(n_di)\n",
        "  df = pd.DataFrame(columns=['q', 'p','es', 'n_di','n_m','u'])\n",
        "\n",
        "\n",
        "  df['q']=qlist\n",
        "  df['p']=plist\n",
        "  df['es']=eslist\n",
        "  df['n_m']=n_mlist\n",
        "  df['u']=ulist\n",
        "\n",
        "  return df\n",
        "\n",
        "\n",
        "def model_ubc_sand_select(var1,var2,var3,var4, var5,var6, var7, var8,var9,po,es):\n",
        "  df=UBCsand(\n",
        "  #E=var1,\n",
        "  kg_e=var1,\n",
        "  poi=var2,\n",
        "  me=var3,\n",
        "  B_skem=0.98, #B skmempton\n",
        "  n=0.4, #porosity\n",
        "  B_e=2e6, #bulk modulus of fluid\n",
        "\n",
        "\n",
        "  #plastic parameter\n",
        "  np=var4,\n",
        "  kg=var5,\n",
        "  R_f=var9,\n",
        "  fee_peak=var6,\n",
        "  fee_cv =var7,\n",
        "  c=var8,\n",
        "  pa=100,\n",
        "  po=po)\n",
        "  df_select=df[df['es']==es]\n",
        "  result=df_select.to_numpy()\n",
        "  con_model_result=result[:,:2]\n",
        "  return con_model_result\n",
        "\n"
      ],
      "execution_count": null,
      "outputs": []
    },
    {
      "cell_type": "code",
      "metadata": {
        "colab": {
          "base_uri": "https://localhost:8080/"
        },
        "id": "Wah7MebDKvwg",
        "outputId": "4a9059db-f82e-4bbd-a6e2-cfc9dcf0a1df"
      },
      "source": [
        "model_ubc_sand_select(300, 0.2, 0.5, 0.5, 290.1484199757287, 10, 5, 200, 0.9,100,0.8)"
      ],
      "execution_count": null,
      "outputs": [
        {
          "output_type": "execute_result",
          "data": {
            "text/plain": [
              "array([[439.57897349626006, 114.20108950053788]], dtype=object)"
            ]
          },
          "metadata": {},
          "execution_count": 114
        }
      ]
    },
    {
      "cell_type": "code",
      "metadata": {
        "colab": {
          "base_uri": "https://localhost:8080/",
          "height": 419
        },
        "id": "h6sM1bPHOLZ-",
        "outputId": "9be9db5e-776f-4943-8b9d-393e7e9dfaad"
      },
      "source": [
        "b"
      ],
      "execution_count": null,
      "outputs": [
        {
          "output_type": "execute_result",
          "data": {
            "text/html": [
              "<div>\n",
              "<style scoped>\n",
              "    .dataframe tbody tr th:only-of-type {\n",
              "        vertical-align: middle;\n",
              "    }\n",
              "\n",
              "    .dataframe tbody tr th {\n",
              "        vertical-align: top;\n",
              "    }\n",
              "\n",
              "    .dataframe thead th {\n",
              "        text-align: right;\n",
              "    }\n",
              "</style>\n",
              "<table border=\"1\" class=\"dataframe\">\n",
              "  <thead>\n",
              "    <tr style=\"text-align: right;\">\n",
              "      <th></th>\n",
              "      <th>q</th>\n",
              "      <th>p</th>\n",
              "      <th>es</th>\n",
              "      <th>n_di</th>\n",
              "      <th>n_m</th>\n",
              "      <th>u</th>\n",
              "    </tr>\n",
              "  </thead>\n",
              "  <tbody>\n",
              "    <tr>\n",
              "      <th>0</th>\n",
              "      <td>0.000000</td>\n",
              "      <td>200.000000</td>\n",
              "      <td>0.000</td>\n",
              "      <td>NaN</td>\n",
              "      <td>0.000000</td>\n",
              "      <td>0.000000</td>\n",
              "    </tr>\n",
              "    <tr>\n",
              "      <th>1</th>\n",
              "      <td>3.394113</td>\n",
              "      <td>200.000000</td>\n",
              "      <td>0.015</td>\n",
              "      <td>NaN</td>\n",
              "      <td>0.000000</td>\n",
              "      <td>1.697056</td>\n",
              "    </tr>\n",
              "    <tr>\n",
              "      <th>2</th>\n",
              "      <td>6.788225</td>\n",
              "      <td>200.000000</td>\n",
              "      <td>0.030</td>\n",
              "      <td>NaN</td>\n",
              "      <td>0.000000</td>\n",
              "      <td>3.394113</td>\n",
              "    </tr>\n",
              "    <tr>\n",
              "      <th>3</th>\n",
              "      <td>10.182338</td>\n",
              "      <td>200.000000</td>\n",
              "      <td>0.045</td>\n",
              "      <td>NaN</td>\n",
              "      <td>0.000000</td>\n",
              "      <td>5.091169</td>\n",
              "    </tr>\n",
              "    <tr>\n",
              "      <th>4</th>\n",
              "      <td>13.576450</td>\n",
              "      <td>200.000000</td>\n",
              "      <td>0.060</td>\n",
              "      <td>NaN</td>\n",
              "      <td>0.000000</td>\n",
              "      <td>6.788225</td>\n",
              "    </tr>\n",
              "    <tr>\n",
              "      <th>...</th>\n",
              "      <td>...</td>\n",
              "      <td>...</td>\n",
              "      <td>...</td>\n",
              "      <td>...</td>\n",
              "      <td>...</td>\n",
              "      <td>...</td>\n",
              "    </tr>\n",
              "    <tr>\n",
              "      <th>995</th>\n",
              "      <td>566.575494</td>\n",
              "      <td>226.371837</td>\n",
              "      <td>14.940</td>\n",
              "      <td>NaN</td>\n",
              "      <td>0.367925</td>\n",
              "      <td>256.915910</td>\n",
              "    </tr>\n",
              "    <tr>\n",
              "      <th>996</th>\n",
              "      <td>566.621333</td>\n",
              "      <td>226.425948</td>\n",
              "      <td>14.955</td>\n",
              "      <td>NaN</td>\n",
              "      <td>0.367938</td>\n",
              "      <td>256.884719</td>\n",
              "    </tr>\n",
              "    <tr>\n",
              "      <th>997</th>\n",
              "      <td>566.667174</td>\n",
              "      <td>226.480075</td>\n",
              "      <td>14.970</td>\n",
              "      <td>NaN</td>\n",
              "      <td>0.367951</td>\n",
              "      <td>256.853512</td>\n",
              "    </tr>\n",
              "    <tr>\n",
              "      <th>998</th>\n",
              "      <td>566.713015</td>\n",
              "      <td>226.534218</td>\n",
              "      <td>14.985</td>\n",
              "      <td>NaN</td>\n",
              "      <td>0.367964</td>\n",
              "      <td>256.822289</td>\n",
              "    </tr>\n",
              "    <tr>\n",
              "      <th>999</th>\n",
              "      <td>566.758856</td>\n",
              "      <td>226.588378</td>\n",
              "      <td>15.000</td>\n",
              "      <td>NaN</td>\n",
              "      <td>0.367978</td>\n",
              "      <td>256.791051</td>\n",
              "    </tr>\n",
              "  </tbody>\n",
              "</table>\n",
              "<p>1000 rows × 6 columns</p>\n",
              "</div>"
            ],
            "text/plain": [
              "              q           p      es n_di       n_m           u\n",
              "0      0.000000  200.000000   0.000  NaN  0.000000    0.000000\n",
              "1      3.394113  200.000000   0.015  NaN  0.000000    1.697056\n",
              "2      6.788225  200.000000   0.030  NaN  0.000000    3.394113\n",
              "3     10.182338  200.000000   0.045  NaN  0.000000    5.091169\n",
              "4     13.576450  200.000000   0.060  NaN  0.000000    6.788225\n",
              "..          ...         ...     ...  ...       ...         ...\n",
              "995  566.575494  226.371837  14.940  NaN  0.367925  256.915910\n",
              "996  566.621333  226.425948  14.955  NaN  0.367938  256.884719\n",
              "997  566.667174  226.480075  14.970  NaN  0.367951  256.853512\n",
              "998  566.713015  226.534218  14.985  NaN  0.367964  256.822289\n",
              "999  566.758856  226.588378  15.000  NaN  0.367978  256.791051\n",
              "\n",
              "[1000 rows x 6 columns]"
            ]
          },
          "metadata": {},
          "execution_count": 26
        }
      ]
    },
    {
      "cell_type": "code",
      "metadata": {
        "colab": {
          "base_uri": "https://localhost:8080/"
        },
        "id": "-B23n3IiPEY6",
        "outputId": "68716b6a-fa44-4c88-be14-f25cfe6502e3"
      },
      "source": [
        "round(1.222,1)"
      ],
      "execution_count": null,
      "outputs": [
        {
          "data": {
            "text/plain": [
              "1.2"
            ]
          },
          "execution_count": 144,
          "metadata": {},
          "output_type": "execute_result"
        }
      ]
    },
    {
      "cell_type": "code",
      "metadata": {
        "id": "XzZXqpvVl_74"
      },
      "source": [
        "def fc(x):\n",
        "  er=np.array([]) #sum error each strain level\n",
        "  strain=np.round(np.arange(0,1.2,0.1),1)\n",
        "  for po in [50,200]: #check diffrent initial pressure\n",
        "    for es in strain: #check diffrent strain level\n",
        "      predict_ini0=np.array([es,po],dtype=object) #from test results\n",
        "      predict_con=model_ubc_sand_select(x[0],x[1],x[2],x[3],x[4],x[5],x[6],x[7],x[8],po,es) #constitutive model\n",
        "      predict_test=predict_value(model_test,scaler_x,scaler_y,predict_ini0)\n",
        "      er_matrix=np.absolute(predict_con-predict_test)\n",
        "      if er_matrix.shape[0] == 0:\n",
        "        f_error=0.8\n",
        "      else:\n",
        "        f1:float128 =er_matrix[0,0]/predict_test[0,0] #diffrent q\n",
        "        f2:float128 = er_matrix[0,1]/predict_test[0,1] #diffrent p\n",
        "        #f3 = er_matrix[0,2]/predict_test[0,2]\n",
        "        f_error=(10*f1+f2)/11 #weight q more than p\n",
        "      er=np.append(er,f_error)\n",
        "\n",
        "  f=np.average(er) #average error\n",
        "  return f"
      ],
      "execution_count": null,
      "outputs": []
    },
    {
      "cell_type": "code",
      "metadata": {
        "colab": {
          "base_uri": "https://localhost:8080/"
        },
        "id": "tIHoPHo7nDVP",
        "outputId": "b59932c4-7d8c-4ad3-d00c-cf1221a1785a"
      },
      "source": [
        "initial=[187.76808683635312, 0.1, 0.5048535396143976, 0.3, 285.72270584843506, 20.02467178305838, 5.062955223331168, 182.49974057653577, 0.99]      # initial starting location [x1,x2...]\n",
        "bounds=[(100,500),(0.1,0.4),(0.1,0.9),(0.1,0.9),(100,400),(5,40),(5,40),(100,400),(0.80,0.99)]  # input bounds [(x1_min,x1_max),(x2_min,x2_max)...]\n",
        "\n",
        "\n",
        "model_result=minimize(fc,initial,bounds,num_particles=50,maxiter=50,verbose=True)"
      ],
      "execution_count": null,
      "outputs": [
        {
          "output_type": "stream",
          "name": "stdout",
          "text": [
            "iter:    0, best solution:  -1.000000\n",
            "iter:    1, best solution:   0.114239\n",
            "iter:    2, best solution:   0.082884\n",
            "iter:    3, best solution:   0.082878\n",
            "iter:    4, best solution:   0.081331\n",
            "iter:    5, best solution:   0.080913\n",
            "iter:    6, best solution:   0.080519\n",
            "iter:    7, best solution:   0.080029\n",
            "iter:    8, best solution:   0.079166\n",
            "iter:    9, best solution:   0.078443\n",
            "iter:   10, best solution:   0.077546\n",
            "iter:   11, best solution:   0.076409\n",
            "iter:   12, best solution:   0.075342\n",
            "iter:   13, best solution:   0.074569\n",
            "iter:   14, best solution:   0.073708\n",
            "iter:   15, best solution:   0.072903\n",
            "iter:   16, best solution:   0.072167\n",
            "iter:   17, best solution:   0.070699\n",
            "iter:   18, best solution:   0.070462\n",
            "iter:   19, best solution:   0.069942\n",
            "iter:   20, best solution:   0.069922\n",
            "iter:   21, best solution:   0.069922\n",
            "iter:   22, best solution:   0.069897\n",
            "iter:   23, best solution:   0.069897\n",
            "iter:   24, best solution:   0.069897\n",
            "iter:   25, best solution:   0.069804\n",
            "iter:   26, best solution:   0.069804\n",
            "iter:   27, best solution:   0.069804\n",
            "iter:   28, best solution:   0.069804\n",
            "iter:   29, best solution:   0.069801\n",
            "iter:   30, best solution:   0.069785\n",
            "iter:   31, best solution:   0.069785\n",
            "iter:   32, best solution:   0.069771\n",
            "iter:   33, best solution:   0.069771\n",
            "iter:   34, best solution:   0.069751\n",
            "iter:   35, best solution:   0.069751\n",
            "iter:   36, best solution:   0.069751\n",
            "iter:   37, best solution:   0.069735\n",
            "iter:   38, best solution:   0.069735\n",
            "iter:   39, best solution:   0.069728\n",
            "iter:   40, best solution:   0.069728\n",
            "iter:   41, best solution:   0.069728\n",
            "iter:   42, best solution:   0.069726\n",
            "iter:   43, best solution:   0.069726\n",
            "iter:   44, best solution:   0.069726\n",
            "iter:   45, best solution:   0.069726\n",
            "iter:   46, best solution:   0.069722\n",
            "iter:   47, best solution:   0.069722\n",
            "iter:   48, best solution:   0.069722\n",
            "iter:   49, best solution:   0.069722\n",
            "\n",
            "FINAL SOLUTION:\n",
            "   > [185.01541452540326, 0.4, 0.34594427084432494, 0.1, 285.61156828176615, 28.630008927401605, 5, 183.4168753412762, 0.8]\n",
            "   > 0.06972141185458713\n",
            "\n"
          ]
        }
      ]
    },
    {
      "cell_type": "code",
      "metadata": {
        "colab": {
          "base_uri": "https://localhost:8080/"
        },
        "id": "nxUtYg4dMrAX",
        "outputId": "0c6ef33b-3d78-4e79-addf-29e73268155c"
      },
      "source": [
        "np.round(np.arange(0,1.6,0.1),1)"
      ],
      "execution_count": null,
      "outputs": [
        {
          "output_type": "execute_result",
          "data": {
            "text/plain": [
              "array([0. , 0.1, 0.2, 0.3, 0.4, 0.5, 0.6, 0.7, 0.8, 0.9, 1. , 1.1, 1.2,\n",
              "       1.3, 1.4, 1.5])"
            ]
          },
          "metadata": {},
          "execution_count": 119
        }
      ]
    },
    {
      "cell_type": "code",
      "metadata": {
        "colab": {
          "base_uri": "https://localhost:8080/"
        },
        "id": "PXyeFBw94LMc",
        "outputId": "f3ab90b7-ded2-43c1-fd30-246cf2f58ee7"
      },
      "source": [
        "predict_ini0=np.array([0.9,100],dtype=object)\n",
        "predict_value(model_test,scaler_x,scaler_y,predict_ini0)"
      ],
      "execution_count": null,
      "outputs": [
        {
          "output_type": "execute_result",
          "data": {
            "text/plain": [
              "array([[409.7377 , 153.48666]], dtype=float32)"
            ]
          },
          "metadata": {},
          "execution_count": 10
        }
      ]
    },
    {
      "cell_type": "code",
      "metadata": {
        "colab": {
          "base_uri": "https://localhost:8080/",
          "height": 181
        },
        "id": "Elv7MfdQ3gxB",
        "outputId": "dae9eef7-eff3-4ff0-d935-9ed215a06fdf"
      },
      "source": [
        "a,b=model_ubc_sand_select(x[0],x[1],x[2],x[3],x[4],100,0.9)\n",
        "b[b['es']==0.89]"
      ],
      "execution_count": null,
      "outputs": [
        {
          "output_type": "error",
          "ename": "NameError",
          "evalue": "ignored",
          "traceback": [
            "\u001b[0;31m---------------------------------------------------------------------------\u001b[0m",
            "\u001b[0;31mNameError\u001b[0m                                 Traceback (most recent call last)",
            "\u001b[0;32m<ipython-input-11-a1eca7509eed>\u001b[0m in \u001b[0;36m<module>\u001b[0;34m()\u001b[0m\n\u001b[0;32m----> 1\u001b[0;31m \u001b[0ma\u001b[0m\u001b[0;34m,\u001b[0m\u001b[0mb\u001b[0m\u001b[0;34m=\u001b[0m\u001b[0mmodel_ubc_sand_select\u001b[0m\u001b[0;34m(\u001b[0m\u001b[0mx\u001b[0m\u001b[0;34m[\u001b[0m\u001b[0;36m0\u001b[0m\u001b[0;34m]\u001b[0m\u001b[0;34m,\u001b[0m\u001b[0mx\u001b[0m\u001b[0;34m[\u001b[0m\u001b[0;36m1\u001b[0m\u001b[0;34m]\u001b[0m\u001b[0;34m,\u001b[0m\u001b[0mx\u001b[0m\u001b[0;34m[\u001b[0m\u001b[0;36m2\u001b[0m\u001b[0;34m]\u001b[0m\u001b[0;34m,\u001b[0m\u001b[0mx\u001b[0m\u001b[0;34m[\u001b[0m\u001b[0;36m3\u001b[0m\u001b[0;34m]\u001b[0m\u001b[0;34m,\u001b[0m\u001b[0mx\u001b[0m\u001b[0;34m[\u001b[0m\u001b[0;36m4\u001b[0m\u001b[0;34m]\u001b[0m\u001b[0;34m,\u001b[0m\u001b[0;36m100\u001b[0m\u001b[0;34m,\u001b[0m\u001b[0;36m0.9\u001b[0m\u001b[0;34m)\u001b[0m\u001b[0;34m\u001b[0m\u001b[0;34m\u001b[0m\u001b[0m\n\u001b[0m\u001b[1;32m      2\u001b[0m \u001b[0mb\u001b[0m\u001b[0;34m[\u001b[0m\u001b[0mb\u001b[0m\u001b[0;34m[\u001b[0m\u001b[0;34m'es'\u001b[0m\u001b[0;34m]\u001b[0m\u001b[0;34m==\u001b[0m\u001b[0;36m0.89\u001b[0m\u001b[0;34m]\u001b[0m\u001b[0;34m\u001b[0m\u001b[0;34m\u001b[0m\u001b[0m\n",
            "\u001b[0;31mNameError\u001b[0m: name 'x' is not defined"
          ]
        }
      ]
    },
    {
      "cell_type": "code",
      "metadata": {
        "colab": {
          "base_uri": "https://localhost:8080/"
        },
        "id": "nCNQf0JoMPTy",
        "outputId": "e4b7e799-46a0-457d-c66e-b4e4515d3ddc"
      },
      "source": [
        "b.iloc[90,2]"
      ],
      "execution_count": null,
      "outputs": [
        {
          "data": {
            "text/plain": [
              "0.8999999999999999"
            ]
          },
          "execution_count": 117,
          "metadata": {},
          "output_type": "execute_result"
        }
      ]
    },
    {
      "cell_type": "code",
      "metadata": {
        "colab": {
          "base_uri": "https://localhost:8080/"
        },
        "id": "9gEH65F-ktP-",
        "outputId": "bcabd1d5-54a4-4c73-ad39-21d6a0849d82"
      },
      "source": [
        "np.arange(0,1.4,0.2)"
      ],
      "execution_count": null,
      "outputs": [
        {
          "data": {
            "text/plain": [
              "array([0. , 0.2, 0.4, 0.6, 0.8, 1. , 1.2])"
            ]
          },
          "execution_count": 37,
          "metadata": {},
          "output_type": "execute_result"
        }
      ]
    },
    {
      "cell_type": "code",
      "metadata": {
        "colab": {
          "base_uri": "https://localhost:8080/"
        },
        "id": "fIGGzG3sGiAj",
        "outputId": "0820de87-e588-4e68-885e-40123efcd557"
      },
      "source": [
        "c"
      ],
      "execution_count": null,
      "outputs": [
        {
          "data": {
            "text/plain": [
              "array([[  0.        ,   0.        ],\n",
              "       [ 22.810709  ,  99.62622833],\n",
              "       [233.13955688, 107.02894592],\n",
              "       [351.28833008, 131.92114258],\n",
              "       [391.0680542 , 145.2454834 ],\n",
              "       [404.42608643, 151.11602783],\n",
              "       [426.20245361, 157.49514771],\n",
              "       [448.35821533, 166.59677124]])"
            ]
          },
          "execution_count": 65,
          "metadata": {},
          "output_type": "execute_result"
        }
      ]
    },
    {
      "cell_type": "code",
      "metadata": {
        "colab": {
          "base_uri": "https://localhost:8080/"
        },
        "id": "lP7CXZ5TTeY_",
        "outputId": "eeb78334-7b82-47da-d7ce-a443280b686d"
      },
      "source": [
        "np.round(np.arange(0,1.4,0.2),1)\n"
      ],
      "execution_count": null,
      "outputs": [
        {
          "data": {
            "text/plain": [
              "array([0. , 0.2, 0.4, 0.6, 0.8, 1. , 1.2])"
            ]
          },
          "execution_count": 75,
          "metadata": {},
          "output_type": "execute_result"
        }
      ]
    },
    {
      "cell_type": "code",
      "metadata": {
        "colab": {
          "base_uri": "https://localhost:8080/"
        },
        "id": "vMUQw6FBTsDe",
        "outputId": "674c2511-0b4b-466c-bf67-fae5f2aa8b0e"
      },
      "source": [
        "a"
      ],
      "execution_count": null,
      "outputs": [
        {
          "data": {
            "text/plain": [
              "0.4962664382114533"
            ]
          },
          "execution_count": 40,
          "metadata": {},
          "output_type": "execute_result"
        }
      ]
    },
    {
      "cell_type": "code",
      "metadata": {
        "id": "A1MmD0Xwr9vo"
      },
      "source": [],
      "execution_count": null,
      "outputs": []
    }
  ]
}